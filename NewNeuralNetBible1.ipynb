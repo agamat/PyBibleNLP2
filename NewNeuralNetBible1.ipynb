{
 "cells": [
  {
   "cell_type": "code",
   "execution_count": 1,
   "metadata": {
    "collapsed": false
   },
   "outputs": [
    {
     "name": "stderr",
     "output_type": "stream",
     "text": [
      "//anaconda/lib/python2.7/site-packages/h5py/__init__.py:36: FutureWarning: Conversion of the second argument of issubdtype from `float` to `np.floating` is deprecated. In future, it will be treated as `np.float64 == np.dtype(float).type`.\n",
      "  from ._conv import register_converters as _register_converters\n",
      "Using TensorFlow backend.\n"
     ]
    }
   ],
   "source": [
    "import numpy as np\n",
    "import shorttext"
   ]
  },
  {
   "cell_type": "code",
   "execution_count": 2,
   "metadata": {
    "collapsed": false
   },
   "outputs": [],
   "source": [
    "# loading the whole ESV Bible\n",
    "import biblebooks.bibledocs_iterator as bit\n",
    "dbconn = bit.get_sqlite3_dbconn(\"ESVCrossway.sqlite\")\n",
    "biblecorpus = bit.generate_classdict_chapters(dbconn)"
   ]
  },
  {
   "cell_type": "code",
   "execution_count": 3,
   "metadata": {
    "collapsed": true
   },
   "outputs": [],
   "source": [
    "from biblebooks import BibleAbbrDict"
   ]
  },
  {
   "cell_type": "code",
   "execution_count": 4,
   "metadata": {
    "collapsed": false
   },
   "outputs": [],
   "source": [
    "# loading FastText model\n",
    "wvmodel = shorttext.utils.load_fasttext_model('/Users/hok/Data/FastText/wiki.simple/wiki.simple.bin')"
   ]
  },
  {
   "cell_type": "code",
   "execution_count": 5,
   "metadata": {
    "collapsed": true
   },
   "outputs": [],
   "source": [
    "# define neural network"
   ]
  },
  {
   "cell_type": "code",
   "execution_count": 6,
   "metadata": {
    "collapsed": true
   },
   "outputs": [],
   "source": [
    "from keras.layers import Conv1D, MaxPooling1D, Flatten, Dense, Dropout, LSTM, Activation, Input\n",
    "from keras.models import Sequential, Model\n",
    "from keras.regularizers import l2"
   ]
  },
  {
   "cell_type": "code",
   "execution_count": 7,
   "metadata": {
    "collapsed": false
   },
   "outputs": [
    {
     "name": "stdout",
     "output_type": "stream",
     "text": [
      "(?, ?, 1024)\n",
      "(?, ?, 1200)\n",
      "(?, ?, 1200)\n",
      "(?, ?)\n",
      "(?, 2)\n"
     ]
    }
   ],
   "source": [
    "maxlen = 20\n",
    "\n",
    "input_x = Input(shape=(maxlen, wvmodel.vector_size))\n",
    "output_y = LSTM(1024, return_sequences=True)(input_x)\n",
    "print(output_y.shape)\n",
    "output_y = Conv1D(filters=1200, kernel_size=2)(output_y)\n",
    "print(output_y.shape)\n",
    "output_y = MaxPooling1D(pool_size=19)(output_y)\n",
    "print(output_y.shape)\n",
    "output_y = Flatten()(output_y)\n",
    "print(output_y.shape)\n",
    "output_y = Dense(2, activation='sigmoid')(output_y)\n",
    "print(output_y.shape)\n",
    "\n",
    "kmodel = Model(inputs=input_x, outputs=output_y)"
   ]
  },
  {
   "cell_type": "code",
   "execution_count": 8,
   "metadata": {
    "collapsed": true
   },
   "outputs": [],
   "source": [
    "kmodel.compile(loss='categorical_crossentropy', optimizer='adam')"
   ]
  },
  {
   "cell_type": "code",
   "execution_count": 9,
   "metadata": {
    "collapsed": false
   },
   "outputs": [],
   "source": [
    "maxlen = 20\n",
    "\n",
    "smodel = Sequential()\n",
    "smodel.add(LSTM(1024, return_sequences=True, input_shape=(maxlen, wvmodel.vector_size)))\n",
    "smodel.add(Conv1D(filters=1200, kernel_size=2))\n",
    "smodel.add(MaxPooling1D(pool_size=maxlen-2+1))\n",
    "smodel.add(Flatten())\n",
    "smodel.add(Dense(2, activation='sigmoid'))\n",
    "\n",
    "smodel.compile(loss='categorical_crossentropy', optimizer='adam')"
   ]
  },
  {
   "cell_type": "code",
   "execution_count": 10,
   "metadata": {
    "collapsed": false
   },
   "outputs": [],
   "source": [
    "newdict = {}\n",
    "newdict['ot'] = [sent for otbookabbr in BibleAbbrDict.otbookdict  if otbookabbr=='de'\n",
    "                 for chap in range(1, BibleAbbrDict.numchaps[otbookabbr]+1) \n",
    "                 for sent in biblecorpus[otbookabbr+'_'+str(chap)]]\n",
    "newdict['nt'] = [sent for ntbookabbr in BibleAbbrDict.ntbookdict if ntbookabbr=='mt'\n",
    "                 for chap in range(1, BibleAbbrDict.numchaps[otbookabbr]+1) \n",
    "                 for sent in biblecorpus[otbookabbr+'_'+str(chap)]]"
   ]
  },
  {
   "cell_type": "code",
   "execution_count": 11,
   "metadata": {
    "collapsed": false
   },
   "outputs": [],
   "source": [
    "classifier = shorttext.classifiers.VarNNEmbeddedVecClassifier(wvmodel, maxlen=maxlen)"
   ]
  },
  {
   "cell_type": "code",
   "execution_count": 12,
   "metadata": {
    "collapsed": false
   },
   "outputs": [
    {
     "name": "stdout",
     "output_type": "stream",
     "text": [
      "Epoch 1/10\n",
      "1297/1297 [==============================] - 23s 17ms/step - loss: 0.5670\n",
      "Epoch 2/10\n",
      "1297/1297 [==============================] - 22s 17ms/step - loss: 0.5054\n",
      "Epoch 3/10\n",
      "1297/1297 [==============================] - 22s 17ms/step - loss: 0.5052\n",
      "Epoch 4/10\n",
      "1297/1297 [==============================] - 21s 16ms/step - loss: 0.5089\n",
      "Epoch 5/10\n",
      "1297/1297 [==============================] - 21s 16ms/step - loss: 0.5082\n",
      "Epoch 6/10\n",
      "1297/1297 [==============================] - 25s 19ms/step - loss: 0.5062\n",
      "Epoch 7/10\n",
      "1297/1297 [==============================] - 22s 17ms/step - loss: 0.5059\n",
      "Epoch 8/10\n",
      "1297/1297 [==============================] - 21s 16ms/step - loss: 0.5046\n",
      "Epoch 9/10\n",
      "1297/1297 [==============================] - 21s 16ms/step - loss: 0.5055\n",
      "Epoch 10/10\n",
      "1297/1297 [==============================] - 21s 16ms/step - loss: 0.5038\n"
     ]
    }
   ],
   "source": [
    "classifier.train(newdict, kmodel)"
   ]
  },
  {
   "cell_type": "code",
   "execution_count": 13,
   "metadata": {
    "collapsed": false
   },
   "outputs": [
    {
     "data": {
      "text/plain": [
       "{'nt': 0.3086999, 'ot': 0.9113841}"
      ]
     },
     "execution_count": 13,
     "metadata": {},
     "output_type": "execute_result"
    }
   ],
   "source": [
    "classifier.score('Love the Lord with all your heart.')"
   ]
  },
  {
   "cell_type": "code",
   "execution_count": 14,
   "metadata": {
    "collapsed": false
   },
   "outputs": [
    {
     "data": {
      "text/plain": [
       "{'nt': 0.28103402, 'ot': 0.9383499}"
      ]
     },
     "execution_count": 14,
     "metadata": {},
     "output_type": "execute_result"
    }
   ],
   "source": [
    "classifier.score('Pray in this way as I have instructed you.')"
   ]
  },
  {
   "cell_type": "code",
   "execution_count": 15,
   "metadata": {
    "collapsed": false
   },
   "outputs": [
    {
     "data": {
      "text/plain": [
       "{'nt': 0.25501776, 'ot': 0.9709943}"
      ]
     },
     "execution_count": 15,
     "metadata": {},
     "output_type": "execute_result"
    }
   ],
   "source": [
    "classifier.score('Moses speaks.')"
   ]
  },
  {
   "cell_type": "code",
   "execution_count": 16,
   "metadata": {
    "collapsed": false
   },
   "outputs": [
    {
     "data": {
      "text/plain": [
       "{'nt': 0.2820653, 'ot': 0.9417404}"
      ]
     },
     "execution_count": 16,
     "metadata": {},
     "output_type": "execute_result"
    }
   ],
   "source": [
    "classifier.score('Jesus Christ')"
   ]
  },
  {
   "cell_type": "code",
   "execution_count": 17,
   "metadata": {
    "collapsed": false
   },
   "outputs": [
    {
     "data": {
      "text/plain": [
       "{'nt': 0.26877484, 'ot': 0.97342694}"
      ]
     },
     "execution_count": 17,
     "metadata": {},
     "output_type": "execute_result"
    }
   ],
   "source": [
    "classifier.score('False idols and true son of God.')"
   ]
  },
  {
   "cell_type": "code",
   "execution_count": 18,
   "metadata": {
    "collapsed": false
   },
   "outputs": [
    {
     "data": {
      "text/plain": [
       "{'nt': 0.2601503, 'ot': 0.97206926}"
      ]
     },
     "execution_count": 18,
     "metadata": {},
     "output_type": "execute_result"
    }
   ],
   "source": [
    "classifier.score('Abraham died.')"
   ]
  },
  {
   "cell_type": "code",
   "execution_count": 19,
   "metadata": {
    "collapsed": true
   },
   "outputs": [],
   "source": [
    "classifier.save_compact_model('de_mt_model_v2.bin')"
   ]
  },
  {
   "cell_type": "code",
   "execution_count": null,
   "metadata": {
    "collapsed": true
   },
   "outputs": [],
   "source": []
  }
 ],
 "metadata": {
  "kernelspec": {
   "display_name": "Python [anaconda]",
   "language": "python",
   "name": "Python [anaconda]"
  },
  "language_info": {
   "codemirror_mode": {
    "name": "ipython",
    "version": 2
   },
   "file_extension": ".py",
   "mimetype": "text/x-python",
   "name": "python",
   "nbconvert_exporter": "python",
   "pygments_lexer": "ipython2",
   "version": "2.7.12"
  }
 },
 "nbformat": 4,
 "nbformat_minor": 2
}
